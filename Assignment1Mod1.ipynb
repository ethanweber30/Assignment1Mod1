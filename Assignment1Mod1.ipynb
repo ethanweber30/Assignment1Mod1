{
 "cells": [
  {
   "cell_type": "code",
   "execution_count": null,
   "id": "907f936d-e3cd-4a28-b3e9-dd68c4d4fbe0",
   "metadata": {},
   "outputs": [],
   "source": [
    "!pip install requests"
   ]
  },
  {
   "cell_type": "code",
   "execution_count": null,
   "id": "a8222024-e610-4c48-ae01-c73b3472bf5e",
   "metadata": {},
   "outputs": [],
   "source": [
    "import tweepy\n",
    "import pandas as pd\n",
    "import requests\n",
    "\n",
    "\n",
    "consumer_key = 'ZXP1W6Ug0cDSwIg93Sa02JnaD'\n",
    "consumer_secret = 'fN8I4aEt045VpUVTH0bLu2O883KX9noJAKCtmcA1orXnvNXll2'\n",
    "access_token = '810587746624413696-3EhQErL7jT735022Cg7zbCJhbrcYEJa'\n",
    "access_token_secret = 'MbGF3dv6vA1owp1ILR4cnq8atassC0mXkXmb4icU1rpza'"
   ]
  },
  {
   "cell_type": "code",
   "execution_count": null,
   "id": "feb3286b-b234-42d2-a8c7-bf21abfd4bff",
   "metadata": {},
   "outputs": [],
   "source": [
    "auth = tweepy.OAuthHandler(consumer_key, consumer_secret)\n",
    "auth.set_access_token(access_token, access_token_secret)\n",
    "api = tweepy.API(auth, wait_on_rate_limit=True)\n",
    "\n",
    "search_query = 'your_search_query'\n",
    "num_tweets = 1000\n",
    "result_type = 'recent'\n",
    "\n",
    "tweets_data = []"
   ]
  },
  {
   "cell_type": "code",
   "execution_count": null,
   "id": "d30e033b-72ee-49f1-a979-d6e21edf4cb1",
   "metadata": {},
   "outputs": [],
   "source": [
    "for tweet in tweepy.Cursor(api.search_tweets, q=search_query, count=num_tweets, result_type=result_type, tweet_mode='extended').items(num_tweets):\n",
    "    tweet_data = {\n",
    "        'created_at': tweet.created_at,\n",
    "        'user_screen_name': tweet.user.screen_name,\n",
    "        'text': tweet.full_text,\n",
    "        'retweet_count': tweet.retweet_count,\n",
    "        'favorite_count': tweet.favorite_count,\n",
    "    }\n",
    "    tweets_data.append(tweet_data)\n",
    "\n",
    "df = pd.DataFrame(tweets_data)\n",
    "\n",
    "df.to_csv('twitter_data.csv', index=False)\n",
    "\n",
    "print('Data extraction complete. CSV file saved.')"
   ]
  },
  {
   "cell_type": "code",
   "execution_count": null,
   "id": "6b800228-ee9a-4d30-be9c-44ea2c569b5e",
   "metadata": {},
   "outputs": [],
   "source": [
    "import matplotlib.pyplot as plt\n",
    "\n",
    "df['created_at'] = pd.to_datetime(df['created_at'])\n",
    "\n",
    "df['hour_of_day'] = df['created_at'].dt.hour\n",
    "\n",
    "tweet_frequency_by_hour = df['hour_of_day'].value_counts().sort_index()\n",
    "\n",
    "plt.figure(figsize=(10, 6))\n",
    "plt.plot(tweet_frequency_by_hour.index, tweet_frequency_by_hour.values, marker='o')\n",
    "plt.title('Tweet Frequency Throughout the Day')\n",
    "plt.xlabel('Hour of Day')\n",
    "plt.ylabel('Tweet Frequency')\n",
    "plt.grid(True)\n",
    "plt.show()\n",
    "\n",
    "plt.figure(figsize=(10, 6))\n",
    "plt.hist(df['retweet_count'], bins=20, alpha=0.5, label='Retweets')\n",
    "plt.hist(df['favorite_count'], bins=20, alpha=0.5, label='Likes')\n",
    "plt.title('Engagement Metrics Distribution Over Different Hours')\n",
    "plt.xlabel('Engagement Metrics')\n",
    "plt.ylabel('Frequency')\n",
    "plt.legend()\n",
    "plt.grid(True)\n",
    "plt.show()\n"
   ]
  }
 ],
 "metadata": {
  "kernelspec": {
   "display_name": "Python 3 (ipykernel)",
   "language": "python",
   "name": "python3"
  },
  "language_info": {
   "codemirror_mode": {
    "name": "ipython",
    "version": 3
   },
   "file_extension": ".py",
   "mimetype": "text/x-python",
   "name": "python",
   "nbconvert_exporter": "python",
   "pygments_lexer": "ipython3",
   "version": "3.10.2"
  }
 },
 "nbformat": 4,
 "nbformat_minor": 5
}
